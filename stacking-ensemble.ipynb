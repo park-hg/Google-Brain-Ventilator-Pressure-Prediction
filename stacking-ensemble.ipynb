{
 "cells": [
  {
   "cell_type": "code",
   "execution_count": 1,
   "id": "65bcbf7c",
   "metadata": {
    "_cell_guid": "b1076dfc-b9ad-4769-8c92-a6c4dae69d19",
    "_uuid": "8f2839f25d086af736a60e9eeb907d3b93b6e0e5",
    "execution": {
     "iopub.execute_input": "2021-11-03T22:56:47.166517Z",
     "iopub.status.busy": "2021-11-03T22:56:47.165220Z",
     "iopub.status.idle": "2021-11-03T22:56:47.176680Z",
     "shell.execute_reply": "2021-11-03T22:56:47.175851Z",
     "shell.execute_reply.started": "2021-11-03T05:26:52.103391Z"
    },
    "papermill": {
     "duration": 0.027926,
     "end_time": "2021-11-03T22:56:47.176865",
     "exception": false,
     "start_time": "2021-11-03T22:56:47.148939",
     "status": "completed"
    },
    "tags": []
   },
   "outputs": [],
   "source": [
    "import gc\n",
    "import numpy as np\n",
    "import pandas as pd"
   ]
  },
  {
   "cell_type": "code",
   "execution_count": 2,
   "id": "201b2b70",
   "metadata": {
    "execution": {
     "iopub.execute_input": "2021-11-03T22:56:47.206519Z",
     "iopub.status.busy": "2021-11-03T22:56:47.205667Z",
     "iopub.status.idle": "2021-11-03T22:56:47.208319Z",
     "shell.execute_reply": "2021-11-03T22:56:47.207757Z",
     "shell.execute_reply.started": "2021-11-03T05:26:52.109866Z"
    },
    "papermill": {
     "duration": 0.020339,
     "end_time": "2021-11-03T22:56:47.208476",
     "exception": false,
     "start_time": "2021-11-03T22:56:47.188137",
     "status": "completed"
    },
    "tags": []
   },
   "outputs": [],
   "source": [
    "def mae(ytrue, ypred, uout=None):\n",
    "    if isinstance(uout, pd.Series):\n",
    "        print(f'MAE (Inspiration Phase):')\n",
    "        return np.mean(np.abs((ytrue - ypred)[uout == 0]))\n",
    "    else:\n",
    "        print('MAE (All Phases):')\n",
    "        return np.mean(np.abs((ytrue - ypred)))"
   ]
  },
  {
   "cell_type": "code",
   "execution_count": 3,
   "id": "0f3b6274",
   "metadata": {
    "execution": {
     "iopub.execute_input": "2021-11-03T22:56:47.233775Z",
     "iopub.status.busy": "2021-11-03T22:56:47.233059Z",
     "iopub.status.idle": "2021-11-03T22:56:55.064493Z",
     "shell.execute_reply": "2021-11-03T22:56:55.064995Z",
     "shell.execute_reply.started": "2021-11-03T05:26:52.127412Z"
    },
    "papermill": {
     "duration": 7.845807,
     "end_time": "2021-11-03T22:56:55.065202",
     "exception": false,
     "start_time": "2021-11-03T22:56:47.219395",
     "status": "completed"
    },
    "tags": []
   },
   "outputs": [],
   "source": [
    "data = pd.read_csv('../input/ventilator-pressure-prediction/train.csv', usecols=['pressure', 'u_out'])\n",
    "ytrue = data.pressure\n",
    "uout = data.u_out"
   ]
  },
  {
   "cell_type": "code",
   "execution_count": 4,
   "id": "3fa72a7e",
   "metadata": {
    "execution": {
     "iopub.execute_input": "2021-11-03T22:56:55.097030Z",
     "iopub.status.busy": "2021-11-03T22:56:55.096325Z",
     "iopub.status.idle": "2021-11-03T22:57:01.484353Z",
     "shell.execute_reply": "2021-11-03T22:57:01.483765Z",
     "shell.execute_reply.started": "2021-11-03T05:26:59.123169Z"
    },
    "papermill": {
     "duration": 6.406227,
     "end_time": "2021-11-03T22:57:01.484505",
     "exception": false,
     "start_time": "2021-11-03T22:56:55.078278",
     "status": "completed"
    },
    "tags": []
   },
   "outputs": [
    {
     "name": "stdout",
     "output_type": "stream",
     "text": [
      "MAE (Inspiration Phase):\n",
      "0.14763511908271662\n",
      "MAE (Inspiration Phase):\n",
      "0.15754060539456885\n",
      "MAE (Inspiration Phase):\n",
      "0.1579810607216832\n",
      "MAE (Inspiration Phase):\n",
      "0.16000326095132464\n"
     ]
    }
   ],
   "source": [
    "oof1 = np.load('../input/lstm-conv1d-pl-infer/oof_preds.npy')\n",
    "test1 = np.load('../input/lstm-conv1d-pl-infer/test_preds.npy')\n",
    "print(mae(ytrue, oof1.reshape(-1), uout))\n",
    "\n",
    "oof2 = np.load('../input/lstm-conv1d-ver2/oof_preds.npy')\n",
    "test2 = np.load('../input/lstm-conv1d-ver2/test_preds.npy')\n",
    "print(mae(ytrue, oof2.reshape(-1), uout))\n",
    "\n",
    "oof3 = np.load('../input/lstm-mlp/oof_preds.npy')\n",
    "test3 = np.load('../input/lstm-mlp/test_preds.npy')\n",
    "print(mae(ytrue, oof3.reshape(-1), uout))\n",
    "\n",
    "oof4 = np.load('../input/pulp-fiction-finetune/oof_preds.npy')\n",
    "test4 = np.load('../input/pulp-fiction-finetune/test_preds.npy')\n",
    "print(mae(ytrue, oof4.reshape(-1), uout))"
   ]
  },
  {
   "cell_type": "code",
   "execution_count": 5,
   "id": "8993e845",
   "metadata": {
    "execution": {
     "iopub.execute_input": "2021-11-03T22:57:01.515826Z",
     "iopub.status.busy": "2021-11-03T22:57:01.515122Z",
     "iopub.status.idle": "2021-11-03T22:57:01.983768Z",
     "shell.execute_reply": "2021-11-03T22:57:01.984301Z",
     "shell.execute_reply.started": "2021-11-03T05:27:02.495611Z"
    },
    "papermill": {
     "duration": 0.487536,
     "end_time": "2021-11-03T22:57:01.984488",
     "exception": false,
     "start_time": "2021-11-03T22:57:01.496952",
     "status": "completed"
    },
    "tags": []
   },
   "outputs": [
    {
     "name": "stdout",
     "output_type": "stream",
     "text": [
      "Min pressure: -1.8957443237304688\n",
      "Max pressure: 64.82099151611328\n",
      "Pressure step: 0.07030248641967773\n",
      "Unique values:  950\n"
     ]
    },
    {
     "data": {
      "text/plain": [
       "141"
      ]
     },
     "execution_count": 5,
     "metadata": {},
     "output_type": "execute_result"
    }
   ],
   "source": [
    "pressure = ytrue.values.astype('float32')\n",
    "\n",
    "P_MIN = np.min(pressure)\n",
    "P_MAX = np.max(pressure)\n",
    "P_STEP = (pressure[1] - pressure[0])\n",
    "print('Min pressure: {}'.format(P_MIN))\n",
    "print('Max pressure: {}'.format(P_MAX))\n",
    "print('Pressure step: {}'.format(P_STEP))\n",
    "print('Unique values:  {}'.format(np.unique(pressure).shape[0]))\n",
    "\n",
    "del pressure\n",
    "gc.collect()"
   ]
  },
  {
   "cell_type": "code",
   "execution_count": 6,
   "id": "1f086159",
   "metadata": {
    "execution": {
     "iopub.execute_input": "2021-11-03T22:57:02.017385Z",
     "iopub.status.busy": "2021-11-03T22:57:02.016556Z",
     "iopub.status.idle": "2021-11-03T22:57:02.020347Z",
     "shell.execute_reply": "2021-11-03T22:57:02.019792Z",
     "shell.execute_reply.started": "2021-11-03T05:27:05.277974Z"
    },
    "papermill": {
     "duration": 0.022947,
     "end_time": "2021-11-03T22:57:02.020492",
     "exception": false,
     "start_time": "2021-11-03T22:57:01.997545",
     "status": "completed"
    },
    "tags": []
   },
   "outputs": [
    {
     "name": "stdout",
     "output_type": "stream",
     "text": [
      "[0.25087471 0.25020964 0.24983373 0.24908192]\n"
     ]
    }
   ],
   "source": [
    "scores=(1-np.array([0.1324,0.1347,0.1360,0.1386,]))\n",
    "scores=(scores)/(np.sum(scores))\n",
    "print(scores)"
   ]
  },
  {
   "cell_type": "code",
   "execution_count": 7,
   "id": "749bbd18",
   "metadata": {
    "execution": {
     "iopub.execute_input": "2021-11-03T22:57:02.054819Z",
     "iopub.status.busy": "2021-11-03T22:57:02.051784Z",
     "iopub.status.idle": "2021-11-03T22:57:15.050918Z",
     "shell.execute_reply": "2021-11-03T22:57:15.050289Z",
     "shell.execute_reply.started": "2021-11-03T05:27:05.28552Z"
    },
    "papermill": {
     "duration": 13.016248,
     "end_time": "2021-11-03T22:57:15.051059",
     "exception": false,
     "start_time": "2021-11-03T22:57:02.034811",
     "status": "completed"
    },
    "tags": []
   },
   "outputs": [],
   "source": [
    "submission = pd.read_csv('../input/ventilator-pressure-prediction/sample_submission.csv')\n",
    "submission[\"pressure\"] = scores[0]*sum(test1)/10 + scores[1]*sum(test2)/10 + scores[2]*sum(test3)/10 + scores[3]*sum(test4)/7\n",
    "submission.to_csv('mean_submission.csv', index=False)"
   ]
  },
  {
   "cell_type": "code",
   "execution_count": 8,
   "id": "1f726451",
   "metadata": {
    "execution": {
     "iopub.execute_input": "2021-11-03T22:57:15.085256Z",
     "iopub.status.busy": "2021-11-03T22:57:15.083860Z",
     "iopub.status.idle": "2021-11-03T22:57:30.758924Z",
     "shell.execute_reply": "2021-11-03T22:57:30.758260Z",
     "shell.execute_reply.started": "2021-11-03T05:27:12.386307Z"
    },
    "papermill": {
     "duration": 15.694655,
     "end_time": "2021-11-03T22:57:30.759082",
     "exception": false,
     "start_time": "2021-11-03T22:57:15.064427",
     "status": "completed"
    },
    "tags": []
   },
   "outputs": [],
   "source": [
    "submission[\"pressure\"] = np.median(np.vstack([test1, test2, test3, test4]),axis=0)\n",
    "submission[\"pressure\"] = np.round((submission.pressure - P_MIN)/P_STEP) * P_STEP + P_MIN\n",
    "submission[\"pressure\"] = np.clip(submission.pressure, P_MIN, P_MAX)\n",
    "submission.to_csv('median_submission.csv', index=False)"
   ]
  },
  {
   "cell_type": "code",
   "execution_count": 9,
   "id": "19a68c73",
   "metadata": {
    "execution": {
     "iopub.execute_input": "2021-11-03T22:57:30.799818Z",
     "iopub.status.busy": "2021-11-03T22:57:30.798541Z",
     "iopub.status.idle": "2021-11-03T22:57:30.803276Z",
     "shell.execute_reply": "2021-11-03T22:57:30.802537Z",
     "shell.execute_reply.started": "2021-11-03T05:27:21.650323Z"
    },
    "papermill": {
     "duration": 0.027995,
     "end_time": "2021-11-03T22:57:30.803425",
     "exception": false,
     "start_time": "2021-11-03T22:57:30.775430",
     "status": "completed"
    },
    "tags": []
   },
   "outputs": [],
   "source": [
    "def better_than_median(test1, test2, test3, test4, axis=0):\n",
    "    \"\"\"Compute the mean of the predictions if there are no outliers,\n",
    "    or the median if there are outliers.\"\"\"\n",
    "    \n",
    "    inputs = np.vstack([test1, test2, test3, test4])\n",
    "    spread = inputs.max(axis=axis) - inputs.min(axis=axis) \n",
    "    spread_lim = 0.45\n",
    "    print(f\"Inliers:  {(spread < spread_lim).sum():7} -> compute mean\")\n",
    "    print(f\"Outliers: {(spread >= spread_lim).sum():7} -> compute median\")\n",
    "    print(f\"Total:    {len(inputs):7}\")\n",
    "    \n",
    "    return np.where(spread < spread_lim,\n",
    "                    scores[0]*sum(test1)/10 + scores[1]*sum(test2)/10 + scores[2]*sum(test3)/10 + scores[3]*sum(test4)/7,\n",
    "                    np.median(np.vstack([test1, test2, test3, test4]),axis=0))"
   ]
  },
  {
   "cell_type": "code",
   "execution_count": 10,
   "id": "461db4aa",
   "metadata": {
    "execution": {
     "iopub.execute_input": "2021-11-03T22:57:30.837962Z",
     "iopub.status.busy": "2021-11-03T22:57:30.836969Z",
     "iopub.status.idle": "2021-11-03T22:57:47.999924Z",
     "shell.execute_reply": "2021-11-03T22:57:47.998904Z",
     "shell.execute_reply.started": "2021-11-03T05:27:21.660022Z"
    },
    "papermill": {
     "duration": 17.181555,
     "end_time": "2021-11-03T22:57:48.000324",
     "exception": false,
     "start_time": "2021-11-03T22:57:30.818769",
     "status": "completed"
    },
    "tags": []
   },
   "outputs": [
    {
     "name": "stdout",
     "output_type": "stream",
     "text": [
      "Inliers:  1129854 -> compute mean\n",
      "Outliers: 2894146 -> compute median\n",
      "Total:         37\n"
     ]
    }
   ],
   "source": [
    "submission[\"pressure\"] = better_than_median(test1, test2, test3, test4)\n",
    "submission[\"pressure\"] = np.round((submission.pressure - P_MIN)/P_STEP) * P_STEP + P_MIN\n",
    "submission[\"pressure\"] = np.clip(submission.pressure, P_MIN, P_MAX)\n",
    "submission.to_csv('better_than_median_submission.csv', index=False)"
   ]
  },
  {
   "cell_type": "code",
   "execution_count": 11,
   "id": "433ab2a1",
   "metadata": {
    "execution": {
     "iopub.execute_input": "2021-11-03T22:57:48.038485Z",
     "iopub.status.busy": "2021-11-03T22:57:48.037714Z",
     "iopub.status.idle": "2021-11-03T22:57:48.906256Z",
     "shell.execute_reply": "2021-11-03T22:57:48.906814Z",
     "shell.execute_reply.started": "2021-11-03T05:28:12.693031Z"
    },
    "papermill": {
     "duration": 0.890459,
     "end_time": "2021-11-03T22:57:48.906991",
     "exception": false,
     "start_time": "2021-11-03T22:57:48.016532",
     "status": "completed"
    },
    "tags": []
   },
   "outputs": [],
   "source": [
    "test1_pp = np.round((test1 - P_MIN)/P_STEP) * P_STEP + P_MIN\n",
    "test1_pp = np.clip(test1, P_MIN, P_MAX)\n",
    "test2_pp = np.round((test2 - P_MIN)/P_STEP) * P_STEP + P_MIN\n",
    "test2_pp = np.clip(test2, P_MIN, P_MAX)\n",
    "test3_pp = np.round((test3 - P_MIN)/P_STEP) * P_STEP + P_MIN\n",
    "test3_pp = np.clip(test3, P_MIN, P_MAX)"
   ]
  },
  {
   "cell_type": "code",
   "execution_count": null,
   "id": "6c06edc5",
   "metadata": {
    "papermill": {
     "duration": 0.013376,
     "end_time": "2021-11-03T22:57:48.934169",
     "exception": false,
     "start_time": "2021-11-03T22:57:48.920793",
     "status": "completed"
    },
    "tags": []
   },
   "outputs": [],
   "source": []
  }
 ],
 "metadata": {
  "kernelspec": {
   "display_name": "Python 3",
   "language": "python",
   "name": "python3"
  },
  "language_info": {
   "codemirror_mode": {
    "name": "ipython",
    "version": 3
   },
   "file_extension": ".py",
   "mimetype": "text/x-python",
   "name": "python",
   "nbconvert_exporter": "python",
   "pygments_lexer": "ipython3",
   "version": "3.7.10"
  },
  "papermill": {
   "default_parameters": {},
   "duration": 72.148001,
   "end_time": "2021-11-03T22:57:49.658743",
   "environment_variables": {},
   "exception": null,
   "input_path": "__notebook__.ipynb",
   "output_path": "__notebook__.ipynb",
   "parameters": {},
   "start_time": "2021-11-03T22:56:37.510742",
   "version": "2.3.3"
  }
 },
 "nbformat": 4,
 "nbformat_minor": 5
}
